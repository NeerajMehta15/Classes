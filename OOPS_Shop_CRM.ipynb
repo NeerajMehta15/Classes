{
  "nbformat": 4,
  "nbformat_minor": 0,
  "metadata": {
    "colab": {
      "provenance": [],
      "authorship_tag": "ABX9TyMyEqGuXcWFdUsGq1hyVtQa",
      "include_colab_link": true
    },
    "kernelspec": {
      "name": "python3",
      "display_name": "Python 3"
    },
    "language_info": {
      "name": "python"
    }
  },
  "cells": [
    {
      "cell_type": "markdown",
      "metadata": {
        "id": "view-in-github",
        "colab_type": "text"
      },
      "source": [
        "<a href=\"https://colab.research.google.com/github/NeerajMehta15/Classes/blob/main/OOPS_Shop_CRM.ipynb\" target=\"_parent\"><img src=\"https://colab.research.google.com/assets/colab-badge.svg\" alt=\"Open In Colab\"/></a>"
      ]
    },
    {
      "cell_type": "markdown",
      "source": [
        "#We are developing a small software which give the shops accounting ability , that means create a small ledger , hold inventory and finally even give loans to the customer.\n",
        "- Inventory\n",
        "- Loyality program\n",
        "- Customer information"
      ],
      "metadata": {
        "id": "_WUPAa9wxD4b"
      }
    },
    {
      "cell_type": "code",
      "execution_count": 1,
      "metadata": {
        "id": "b1NZigpNVGqy"
      },
      "outputs": [],
      "source": [
        "#Importing the required files\n",
        "import pandas as pd\n",
        "import numpy as np"
      ]
    },
    {
      "cell_type": "code",
      "source": [
        "class Shop:\n",
        "\n",
        "    def __init__(self, name, contact, loyalty_points=0):  # Initialize the variables\n",
        "        self.name = name\n",
        "        self.contact = contact\n",
        "        self.loyalty_points = loyalty_points\n",
        "        self.customer_details = {}\n",
        "        self.ledger = {}\n",
        "\n",
        "    def add_customer_details(self):  # Add customer details to the shop CRM\n",
        "        self.customer_details[self.contact] = {\n",
        "            \"Name\": self.name,\n",
        "            \"Phone_number\": self.contact,\n",
        "            \"Loyalty_points\": self.loyalty_points\n",
        "        }\n",
        "        return self.customer_details\n",
        "\n",
        "    def add_transaction(self, customer_name, item, price):# Add item and price to the customer's record\n",
        "        if customer_name not in self.ledger:\n",
        "            self.ledger[customer_name] = {\"items\": [], \"total_amount\": 0}\n",
        "\n",
        "        self.ledger[customer_name][\"items\"].append({\"item\": item, \"price\": price})\n",
        "        self.ledger[customer_name][\"total_amount\"] += price\n",
        "\n",
        "    def calculate_total(self, customer_name):  # Calculate the total cost of the transaction\n",
        "        if customer_name in self.ledger:\n",
        "            return self.ledger[customer_name][\"total_amount\"]\n",
        "        return 0\n",
        "\n",
        "    def redeem_loyalty_points(self, customer_name, points):  # Redeem loyalty points for discounts\n",
        "        if customer_name in self.customer_details:\n",
        "            available_points = self.customer_details[customer_name][\"Loyalty_points\"]\n",
        "            if points <= available_points:\n",
        "                self.customer_details[customer_name][\"Loyalty_points\"] -= points\n",
        "                discount = points * 0.1  # Assume 1 point = Rs 0.1 discount\n",
        "                return discount\n",
        "            else:\n",
        "                return \"Insufficient loyalty points.\"\n",
        "        return \"Customer not found.\"\n",
        ""
      ],
      "metadata": {
        "id": "QGvO2hGky6V5"
      },
      "execution_count": 2,
      "outputs": []
    },
    {
      "cell_type": "code",
      "source": [
        "shop = Shop(\"Neeraj\", \"1231231232\", 100)\n",
        "shop.add_customer_details()"
      ],
      "metadata": {
        "colab": {
          "base_uri": "https://localhost:8080/"
        },
        "id": "iINTmYbozkdd",
        "outputId": "6502a583-3be8-4522-bb5f-847ece0a5a77"
      },
      "execution_count": 3,
      "outputs": [
        {
          "output_type": "execute_result",
          "data": {
            "text/plain": [
              "{'1231231232': {'Name': 'Neeraj',\n",
              "  'Phone_number': '1231231232',\n",
              "  'Loyalty_points': 100}}"
            ]
          },
          "metadata": {},
          "execution_count": 3
        }
      ]
    },
    {
      "cell_type": "code",
      "source": [
        "shop.add_transaction(\"Neeraj\", \"Apples\", 10)\n",
        "shop.add_transaction(\"Neeraj\", \"Bananas\", 5)"
      ],
      "metadata": {
        "id": "nAGgTtUv4IdJ"
      },
      "execution_count": 4,
      "outputs": []
    },
    {
      "cell_type": "code",
      "source": [
        "print(shop.calculate_total(\"Neeraj\"))"
      ],
      "metadata": {
        "colab": {
          "base_uri": "https://localhost:8080/"
        },
        "id": "uwytEHAt4F1V",
        "outputId": "f88d9b90-25df-41e0-c673-e9a735a0fcda"
      },
      "execution_count": 5,
      "outputs": [
        {
          "output_type": "stream",
          "name": "stdout",
          "text": [
            "15\n"
          ]
        }
      ]
    },
    {
      "cell_type": "code",
      "source": [
        "print(shop.redeem_loyalty_points(\"Neeraj\", 50))"
      ],
      "metadata": {
        "colab": {
          "base_uri": "https://localhost:8080/"
        },
        "id": "GAkXR8X04_jj",
        "outputId": "91fe1618-c4a8-4ea8-db71-d89e0202ca59"
      },
      "execution_count": 7,
      "outputs": [
        {
          "output_type": "stream",
          "name": "stdout",
          "text": [
            "Customer not found.\n"
          ]
        }
      ]
    }
  ]
}